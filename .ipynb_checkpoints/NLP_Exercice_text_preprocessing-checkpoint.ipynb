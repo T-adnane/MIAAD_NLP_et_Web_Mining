{
 "cells": [
  {
   "cell_type": "raw",
   "id": "1a8658fe",
   "metadata": {},
   "source": [
    "étapes\n",
    "1) Ouvrir le fichier\n",
    "2) Convertir le text en minuscule\n",
    "3) Supprimer les ponctuations\n",
    "4) Tokenisation\n",
    "5) Supprimer les stop words\n",
    "6) Stemming ou Lemmatisation"
   ]
  },
  {
   "cell_type": "code",
   "execution_count": 1,
   "id": "9a8b9685",
   "metadata": {
    "scrolled": false
   },
   "outputs": [
    {
     "name": "stdout",
     "output_type": "stream",
     "text": [
      "le text avant le traitement :\n",
      "\n",
      " The text preprocessing step is breaking up the units of text into individual words or tokens. This process can take many forms, depinding on the language being analysed. For English, a straightforward and effective tokenization strategy is to use white space and punctuation as token delimiters\n"
     ]
    }
   ],
   "source": [
    "# Ouvrir le fichier qu'on vas travailler avec\n",
    "file = open(\"test.txt\")\n",
    "dataset = file.read()\n",
    "print(\"le text avant le traitement :\\n\\n\",dataset)"
   ]
  },
  {
   "cell_type": "code",
   "execution_count": 2,
   "id": "722069c1",
   "metadata": {},
   "outputs": [
    {
     "name": "stdout",
     "output_type": "stream",
     "text": [
      "le text en minuscule :\n",
      "\n",
      " the text preprocessing step is breaking up the units of text into individual words or tokens. this process can take many forms, depinding on the language being analysed. for english, a straightforward and effective tokenization strategy is to use white space and punctuation as token delimiters\n"
     ]
    }
   ],
   "source": [
    "# Convertir le text en minuscule\n",
    "dataset = dataset.lower()\n",
    "print(\"le text en minuscule :\\n\\n\",dataset)"
   ]
  },
  {
   "cell_type": "code",
   "execution_count": 3,
   "id": "7befcd2e",
   "metadata": {
    "scrolled": true
   },
   "outputs": [
    {
     "name": "stdout",
     "output_type": "stream",
     "text": [
      "le text sans les ponctuations :\n",
      "\n",
      " the text preprocessing step is breaking up the units of text into individual words or tokens this process can take many forms depinding on the language being analysed for english a straightforward and effective tokenization strategy is to use white space and punctuation as token delimiters\n"
     ]
    }
   ],
   "source": [
    "# Supprimer les ponctuations(\",\" \".\" \":\" ...)\n",
    "import string\n",
    "ponctuation = string.punctuation\n",
    "liste = []\n",
    "for w in dataset:\n",
    "    if w not in ponctuation:\n",
    "        liste.append(w)\n",
    "dataset = \"\".join(liste)\n",
    "print(\"le text sans les ponctuations :\\n\\n\",dataset)"
   ]
  },
  {
   "cell_type": "code",
   "execution_count": 4,
   "id": "f2353e60",
   "metadata": {},
   "outputs": [
    {
     "name": "stdout",
     "output_type": "stream",
     "text": [
      "les tokens :\n",
      "\n",
      " ['the', 'text', 'preprocessing', 'step', 'is', 'breaking', 'up', 'the', 'units', 'of', 'text', 'into', 'individual', 'words', 'or', 'tokens', 'this', 'process', 'can', 'take', 'many', 'forms', 'depinding', 'on', 'the', 'language', 'being', 'analysed', 'for', 'english', 'a', 'straightforward', 'and', 'effective', 'tokenization', 'strategy', 'is', 'to', 'use', 'white', 'space', 'and', 'punctuation', 'as', 'token', 'delimiters']\n"
     ]
    }
   ],
   "source": [
    "# Tokenisation\n",
    "import nltk\n",
    "tokens = nltk.word_tokenize(dataset)\n",
    "print(\"les tokens :\\n\\n\", tokens)"
   ]
  },
  {
   "cell_type": "code",
   "execution_count": 5,
   "id": "d914ebcc",
   "metadata": {},
   "outputs": [
    {
     "name": "stdout",
     "output_type": "stream",
     "text": [
      "Les tokens sans les stop words :\n",
      "\n",
      " ['text', 'preprocessing', 'step', 'breaking', 'units', 'text', 'individual', 'words', 'tokens', 'process', 'take', 'many', 'forms', 'depinding', 'language', 'analysed', 'english', 'straightforward', 'effective', 'tokenization', 'strategy', 'use', 'white', 'space', 'punctuation', 'token', 'delimiters']\n"
     ]
    }
   ],
   "source": [
    "# Supprimer les stop words\n",
    "from nltk.corpus import stopwords\n",
    "stopwords_en = set(stopwords.words('english'))\n",
    "tokens_clean = [token for token in tokens if token not in stopwords_en]\n",
    "print(\"Les tokens sans les stop words :\\n\\n\", tokens_clean)"
   ]
  },
  {
   "cell_type": "code",
   "execution_count": 6,
   "id": "5878ca0b",
   "metadata": {},
   "outputs": [
    {
     "name": "stdout",
     "output_type": "stream",
     "text": [
      "Les stems (les racines des tokens) :\n",
      "\n",
      " ['text', 'preprocess', 'step', 'break', 'unit', 'text', 'individu', 'word', 'token', 'process', 'take', 'mani', 'form', 'depind', 'languag', 'analys', 'english', 'straightforward', 'effect', 'token', 'strategi', 'use', 'white', 'space', 'punctuat', 'token', 'delimit']\n"
     ]
    }
   ],
   "source": [
    "# Stemming (retourner les racines des tokens)\n",
    "from nltk.stem import PorterStemmer\n",
    "stemmer = PorterStemmer()\n",
    "stems = [stemmer.stem(token) for token in tokens_clean]\n",
    "print(\"Les stems (les racines des tokens) :\\n\\n\", stems)"
   ]
  },
  {
   "cell_type": "code",
   "execution_count": 7,
   "id": "88c17952",
   "metadata": {},
   "outputs": [
    {
     "name": "stdout",
     "output_type": "stream",
     "text": [
      "la forme canonique des tokens :\n",
      "\n",
      " ['text', 'preprocessing', 'step', 'breaking', 'unit', 'text', 'individual', 'word', 'token', 'process', 'take', 'many', 'form', 'depinding', 'language', 'analysed', 'english', 'straightforward', 'effective', 'tokenization', 'strategy', 'use', 'white', 'space', 'punctuation', 'token', 'delimiters']\n"
     ]
    }
   ],
   "source": [
    "# Lemmatisation (retourner la forme canonique des tokens)\n",
    "from nltk.stem import WordNetLemmatizer\n",
    "wnl = WordNetLemmatizer()\n",
    "lem = [wnl.lemmatize(token) for token in tokens_clean]\n",
    "print(\"la forme canonique des tokens :\\n\\n\", lem)"
   ]
  },
  {
   "cell_type": "code",
   "execution_count": null,
   "id": "feabed45",
   "metadata": {},
   "outputs": [],
   "source": []
  }
 ],
 "metadata": {
  "kernelspec": {
   "display_name": "Python 3 (ipykernel)",
   "language": "python",
   "name": "python3"
  },
  "language_info": {
   "codemirror_mode": {
    "name": "ipython",
    "version": 3
   },
   "file_extension": ".py",
   "mimetype": "text/x-python",
   "name": "python",
   "nbconvert_exporter": "python",
   "pygments_lexer": "ipython3",
   "version": "3.9.7"
  }
 },
 "nbformat": 4,
 "nbformat_minor": 5
}
